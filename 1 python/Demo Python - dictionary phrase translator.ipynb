{
 "cells": [
  {
   "cell_type": "markdown",
   "metadata": {},
   "source": [
    "# Dictionary Practice: Phrase Translator\n",
    "\n",
    "My client needs a travel phrase look-up app. They have requested that it come out of the box with a few phrases, and allow the user to add new phrases as they travel. A text file will hold the initial translations, and for some words/expressions, there may be multiple translations. Once a user has added new phrases, upon closing, they should be given a choice to update the phrase book text file.\n",
    "\n",
    "Here's an example of the output:\n",
    "```\n",
    "What word/phrase do you want to know? Type in English or Japanese:\n",
    ">>> thank you\n",
    "Looking for \"thank you\"...\n",
    "We found an entry for \"thank you\" with 2 translations:\n",
    "--------------------\n",
    "Eng: Thank you\n",
    "Jpn: 1. Arigatou (c) 2. Arigatou-gozaimasu (p)\n",
    "Note: 'c' stands for casual (ie. 'Thanks man'), 'p' stands for polite (ie. \"Thank you, sir\")\n",
    "```"
   ]
  },
  {
   "cell_type": "markdown",
   "metadata": {},
   "source": [
    "# Import in text file to pre-populate our dictionary"
   ]
  },
  {
   "cell_type": "code",
   "execution_count": 38,
   "metadata": {},
   "outputs": [
    {
     "name": "stdout",
     "output_type": "stream",
     "text": [
      "arigatou | thank you (casual) | Arigatou Yuka. | Thanks Yuka.\n",
      "arigatou-gozaimasu | thank you (polite) | Yamada-san arigatou-gozaimasu. | Thank you, Mrs. Yamada.\n",
      "ohayou | good morning (casual) | Ohayou Kenta! | Good morning Kenta!\n",
      "ohayou-gozaimasu | good morning (polite) | Tanaka-san ohayou-gozaimasu. | Goodmorning, Mr. Tanaka.\n",
      "ichi | the number one\n",
      "ni | the number two\n",
      "san | the number three ; Mr. ; Mrs.\n",
      "kudasai | please give me | San-doru kudasai. | Three dollars please.\n",
      "doru | dollar ; dollars\n",
      "desu | noun/adjective polite marker| Ichi-doru desu. | It's one dollar.\n",
      "ka | question marker (polite) | Tanaka-san desu ka? | Are you Mr. Tanaka?\n"
     ]
    }
   ],
   "source": [
    "filepath = \"jpn_eng_starter_phrases.txt\"\n",
    "data = \"\"\n",
    "with open(filepath, 'r') as f:\n",
    "    data = f.read()\n",
    "print(data)"
   ]
  },
  {
   "cell_type": "markdown",
   "metadata": {},
   "source": [
    "# Create the dictionary"
   ]
  },
  {
   "cell_type": "code",
   "execution_count": 39,
   "metadata": {},
   "outputs": [
    {
     "name": "stdout",
     "output_type": "stream",
     "text": [
      "{'arigatou': [['thank you (casual)'], 'Arigatou Yuka.', 'Thanks Yuka.'], 'arigatou-gozaimasu': [['thank you (polite)'], 'Yamada-san arigatou-gozaimasu.', 'Thank you, Mrs. Yamada.'], 'ohayou': [['good morning (casual)'], 'Ohayou Kenta!', 'Good morning Kenta!'], 'ohayou-gozaimasu': [['good morning (polite)'], 'Tanaka-san ohayou-gozaimasu.', 'Goodmorning, Mr. Tanaka.'], 'ichi': ['the number one'], 'ni': ['the number two'], 'san': ['the number three ', ' Mr. ', ' Mrs.'], 'kudasai': [['please give me'], 'San-doru kudasai.', 'Three dollars please.'], 'doru': ['dollar ', ' dollars'], 'desu': [['noun/adjective polite marker'], 'Ichi-doru desu.', \"It's one dollar.\"], 'ka': [['question marker (polite)'], 'Tanaka-san desu ka?', 'Are you Mr. Tanaka?']}\n"
     ]
    }
   ],
   "source": [
    "phrases = {}\n",
    "lines = data.split(\"\\n\")\n",
    "for line in lines:\n",
    "    entry = line.split(\"|\")\n",
    "    if len(entry) == 2: # just a word and translation(s)\n",
    "        translations = entry[1].strip().split(\";\")\n",
    "        phrases.update({entry[0].strip():translations})\n",
    "    elif len(entry) == 4: # a word, translation(s), and an example sentence\n",
    "        translations = entry[1].strip().split(\";\")\n",
    "        phrases.update({entry[0].strip():[translations,entry[2].strip(),entry[3].strip()]})\n",
    "    else:\n",
    "        print(\"carrot\") # debugging error message\n",
    "print(phrases)"
   ]
  },
  {
   "cell_type": "markdown",
   "metadata": {},
   "source": [
    "# Greet user, await user command to lookup words or quit"
   ]
  },
  {
   "cell_type": "code",
   "execution_count": 45,
   "metadata": {},
   "outputs": [
    {
     "name": "stdout",
     "output_type": "stream",
     "text": [
      "========================================\n",
      "What word or phrase would you like to know? Type 'q' to quit.\n",
      " > morning\n",
      "Searching for morning...\n",
      "Doesn't look like we have morning, yet.\n",
      "========================================\n",
      "What word or phrase would you like to know? Type 'q' to quit.\n",
      " > sushi\n",
      "Searching for sushi...\n",
      "Doesn't look like we have sushi, yet.\n",
      "========================================\n",
      "What word or phrase would you like to know? Type 'q' to quit.\n",
      " > san\n",
      "Searching for san...\n",
      "san found. Here's what we got:\n",
      "['the number three ', ' Mr. ', ' Mrs.']\n",
      "========================================\n",
      "What word or phrase would you like to know? Type 'q' to quit.\n",
      " > q\n",
      "Sayonara! Farewell!\n"
     ]
    }
   ],
   "source": [
    "# more code\n",
    "running = True\n",
    "while running:\n",
    "    print(\"=\"*40)\n",
    "    print(\"What word or phrase would you like to know? Type 'q' to quit.\")\n",
    "    answer = input(\" > \")\n",
    "    # check user answer here\n",
    "    if answer == 'q':\n",
    "        running = False\n",
    "    else:\n",
    "        print(f\"Searching for {answer}...\")\n",
    "        if answer in phrases.keys():\n",
    "            print(f\"{answer} found. Here's what we got:\")\n",
    "            print(phrases.get(answer))\n",
    "        else:\n",
    "            print(f\"Doesn't look like we have {answer}, yet.\")\n",
    "            #print(\"Would you like to add a new entry?\")\n",
    "print(\"Sayonara! Farewell!\")"
   ]
  },
  {
   "cell_type": "code",
   "execution_count": null,
   "metadata": {},
   "outputs": [],
   "source": []
  }
 ],
 "metadata": {
  "kernelspec": {
   "display_name": "Python 3",
   "language": "python",
   "name": "python3"
  },
  "language_info": {
   "codemirror_mode": {
    "name": "ipython",
    "version": 3
   },
   "file_extension": ".py",
   "mimetype": "text/x-python",
   "name": "python",
   "nbconvert_exporter": "python",
   "pygments_lexer": "ipython3",
   "version": "3.7.3"
  }
 },
 "nbformat": 4,
 "nbformat_minor": 2
}
