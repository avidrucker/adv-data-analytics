{
 "cells": [
  {
   "cell_type": "markdown",
   "metadata": {},
   "source": [
    "# Import text file"
   ]
  },
  {
   "cell_type": "code",
   "execution_count": 736,
   "metadata": {},
   "outputs": [
    {
     "name": "stdout",
     "output_type": "stream",
     "text": [
      "Querying A MySQL Table Using PyMySQL  \n",
      "Avi: 🟊🟊🟊🟊🟊  \n",
      "https://pythontic.com/database/mysql/query%20a%20table  \n",
      "Avi: well-written useful clear would-recommend  \n",
      "\n",
      "PyMySQL Docs Walkthrough Example  \n",
      "Avi: 🟊🟊🟊🟊🟊  \n",
      "https://pymysql.readthedocs.io/en/latest/user/examples.html  \n",
      "Avi: useful clear would-recommend  \n",
      "\n",
      "Awesome Breakdown of SQLalchemy for SQL queries in Pandas:  \n",
      "Avi: 🟊🟊🟊🟊☆  \n",
      "https://wellsr.com/python/import-sql-data-query-into-pandas-dataframe-with-sqlalchemy/  \n",
      "Avi: high-level useful combo-te\n"
     ]
    }
   ],
   "source": [
    "filepath = \"resources_sql_jupyter_notebooks_pandas.md\"\n",
    "data = \"\"\n",
    "with open(filepath, 'r') as f:\n",
    "    data = f.read()\n",
    "print(data[:500])"
   ]
  },
  {
   "cell_type": "markdown",
   "metadata": {},
   "source": [
    "# Split into list of items"
   ]
  },
  {
   "cell_type": "code",
   "execution_count": 737,
   "metadata": {},
   "outputs": [
    {
     "name": "stdout",
     "output_type": "stream",
     "text": [
      "['Querying A MySQL Table Using PyMySQL  \\nAvi: 🟊🟊🟊🟊🟊  \\nhttps://pythontic.com/database/mysql/query%20a%20table  \\nAvi: well-written useful clear would-recommend  ', 'PyMySQL Docs Walkthrough Example  \\nAvi: 🟊🟊🟊🟊🟊  \\nhttps://pymysql.readthedocs.io/en/latest/user/examples.html  \\nAvi: useful clear would-recommend  ', 'Awesome Breakdown of SQLalchemy for SQL queries in Pandas:  \\nAvi: 🟊🟊🟊🟊☆  \\nhttps://wellsr.com/python/import-sql-data-query-into-pandas-dataframe-with-sqlalchemy/  \\nAvi: high-level useful combo-technique advanced  ']\n"
     ]
    }
   ],
   "source": [
    "entries = data.split(\"\\n\\n\")\n",
    "print(entries[:3])"
   ]
  },
  {
   "cell_type": "code",
   "execution_count": 738,
   "metadata": {},
   "outputs": [],
   "source": [
    "current = []\n",
    "items_dict = {}\n",
    "for e in entries:\n",
    "    current.append(e.split(\"\\n\"))"
   ]
  },
  {
   "cell_type": "code",
   "execution_count": 739,
   "metadata": {},
   "outputs": [
    {
     "name": "stdout",
     "output_type": "stream",
     "text": [
      "[['Querying A MySQL Table Using PyMySQL  ', 'Avi: 🟊🟊🟊🟊🟊  ', 'https://pythontic.com/database/mysql/query%20a%20table  ', 'Avi: well-written useful clear would-recommend  '], ['PyMySQL Docs Walkthrough Example  ', 'Avi: 🟊🟊🟊🟊🟊  ', 'https://pymysql.readthedocs.io/en/latest/user/examples.html  ', 'Avi: useful clear would-recommend  '], ['Awesome Breakdown of SQLalchemy for SQL queries in Pandas:  ', 'Avi: 🟊🟊🟊🟊☆  ', 'https://wellsr.com/python/import-sql-data-query-into-pandas-dataframe-with-sqlalchemy/  ', 'Avi: high-level useful combo-technique advanced  ']]\n",
      "10\n"
     ]
    }
   ],
   "source": [
    "print(current[:3])\n",
    "print(len(current))"
   ]
  },
  {
   "cell_type": "code",
   "execution_count": 740,
   "metadata": {},
   "outputs": [],
   "source": [
    "for c in range(len(current)):\n",
    "    items_dict.update({\n",
    "        str(c):{\n",
    "        \"title\":current[c][0],\n",
    "        \"rating\":f'{current[c][1]}',\n",
    "        \"address\":current[c][2],\n",
    "        \"tags\":current[c][3]\n",
    "    }})"
   ]
  },
  {
   "cell_type": "code",
   "execution_count": 741,
   "metadata": {},
   "outputs": [
    {
     "name": "stdout",
     "output_type": "stream",
     "text": [
      "{'0': {'title': 'Querying A MySQL Table Using PyMySQL  ', 'rating': 'Avi: 🟊🟊🟊🟊🟊  ', 'address': 'https://pythontic.com/database/mysql/query%20a%20table  ', 'tags': 'Avi: well-written useful clear would-recommend  '}, '1': {'title': 'PyMySQL Docs Walkthrough Example  ', 'rating': 'Avi: 🟊🟊🟊🟊🟊  ', 'address': 'https://pymysql.readthedocs.io/en/latest/user/examples.html  ', 'tags': 'Avi: useful clear would-recommend  '}, '2': {'title': 'Awesome Breakdown of SQLalchemy for SQL queries in Pandas:  ', 'rating': 'Avi: 🟊🟊🟊🟊☆  ', 'address': 'https://wellsr.com/python/import-sql-data-query-into-pandas-dataframe-with-sqlalchemy/  ', 'tags': 'Avi: high-level useful combo-technique advanced  '}, '3': {'title': 'Pandas to SQL  ', 'rating': 'Avi: 🟊🟊🟊🟊☆  ', 'address': 'https://medium.com/jbennetcodes/how-to-rewrite-your-sql-queries-in-pandas-and-more-149d341fc53e  ', 'tags': 'Avi: well-written leap-frogging  '}, '4': {'title': 'Pandas Commands for SQL People  ', 'rating': 'Avi: 🟊🟊🟊🟊☆  ', 'address': 'https://hackernoon.com/pandas-cheatsheet-for-sql-people-part-1-2976894acd0  ', 'tags': 'Avi: well-written clear  '}, '5': {'title': 'Use SQL queries on a Pandas dataframe  ', 'rating': 'Avi: 🟊🟊🟊☆☆  ', 'address': 'https://stackoverflow.com/questions/45865608/executing-an-sql-query-over-a-pandas-dataset  ', 'tags': 'Avi: niche interesting  '}, '6': {'title': 'DB Connection Cursor Explanation  ', 'rating': 'Avi: 🟊🟊🟊☆☆  ', 'address': 'https://stackoverflow.com/questions/28530508/select-query-in-pymysql  ', 'tags': 'Avi: foundational  '}, '7': {'title': 'Delete first X lines of a database  ', 'rating': 'Avi: 🟊🟊🟊☆☆  ', 'address': 'https://stackoverflow.com/questions/12779978/delete-first-x-lines-of-a-database  ', 'tags': 'Avi: useful SQL atomic how-to  '}, '8': {'title': 'Initial Template for Jupyter Notebook (this was the base we used)  ', 'rating': 'Avi: 🟊🟊🟊☆☆  ', 'address': 'https://stackoverflow.com/questions/50973191/connect-to-mysql-db-from-jupyter-notebook  ', 'tags': 'Avi: non-comprehensive useful starter  '}, '9': {'title': 'High level overview of running SQL scripts from Jupyter Notebook, in plain English  ', 'rating': 'Avi: 🟊🟊🟊☆☆  ', 'address': 'https://support.labs.cognitiveclass.ai/knowledgebase/articles/831621-access-mysql-from-python-notebook-using-mysqldb  ', 'tags': 'Avi: generalized high-level useful conceptual  '}}\n"
     ]
    }
   ],
   "source": [
    "print(items_dict)"
   ]
  },
  {
   "cell_type": "code",
   "execution_count": 742,
   "metadata": {},
   "outputs": [],
   "source": [
    "import json"
   ]
  },
  {
   "cell_type": "code",
   "execution_count": 743,
   "metadata": {},
   "outputs": [
    {
     "name": "stdout",
     "output_type": "stream",
     "text": [
      "{\"0\": {\"title\": \"Querying A MySQL Table Using PyMySQL  \", \"rating\": \"Avi: \\ud83d\\udfca\\ud83d\\udfca\\ud83d\\udfca\\ud83d\\udfca\\ud83d\\udfca  \", \"address\": \"https://pythontic.com/database/mysql/query%20a%20table  \", \"tags\": \"Avi: well-written useful clear would-recommend  \"}, \"1\": {\"title\": \"PyMySQL Docs Walkthrough Example  \", \"rating\": \"Avi: \\ud83d\\udfca\\ud83d\\udfca\\ud83d\\udfca\\ud83d\\udfca\\ud83d\\udfca  \", \"address\": \"https://pymysql.readthedocs.io/en/latest/user/examples.html  \", \"tags\": \"Avi: useful clear would-recommend  \"}, \"2\": {\"title\": \"Awesome Breakdown of SQLalchemy for SQL queries in Pandas:  \", \"rating\": \"Avi: \\ud83d\\udfca\\ud83d\\udfca\\ud83d\\udfca\\ud83d\\udfca\\u2606  \", \"address\": \"https://wellsr.com/python/import-sql-data-query-into-pandas-dataframe-with-sqlalchemy/  \", \"tags\": \"Avi: high-level useful combo-technique advanced  \"}, \"3\": {\"title\": \"Pandas to SQL  \", \"rating\": \"Avi: \\ud83d\\udfca\\ud83d\\udfca\\ud83d\\udfca\\ud83d\\udfca\\u2606  \", \"address\": \"https://medium.com/jbennetcodes/how-to-rewrite-your-sql-queries-in-pandas-and-more-149d341fc53e  \", \"tags\": \"Avi: well-written leap-frogging  \"}, \"4\": {\"title\": \"Pandas Commands for SQL People  \", \"rating\": \"Avi: \\ud83d\\udfca\\ud83d\\udfca\\ud83d\\udfca\\ud83d\\udfca\\u2606  \", \"address\": \"https://hackernoon.com/pandas-cheatsheet-for-sql-people-part-1-2976894acd0  \", \"tags\": \"Avi: well-written clear  \"}, \"5\": {\"title\": \"Use SQL queries on a Pandas dataframe  \", \"rating\": \"Avi: \\ud83d\\udfca\\ud83d\\udfca\\ud83d\\udfca\\u2606\\u2606  \", \"address\": \"https://stackoverflow.com/questions/45865608/executing-an-sql-query-over-a-pandas-dataset  \", \"tags\": \"Avi: niche interesting  \"}, \"6\": {\"title\": \"DB Connection Cursor Explanation  \", \"rating\": \"Avi: \\ud83d\\udfca\\ud83d\\udfca\\ud83d\\udfca\\u2606\\u2606  \", \"address\": \"https://stackoverflow.com/questions/28530508/select-query-in-pymysql  \", \"tags\": \"Avi: foundational  \"}, \"7\": {\"title\": \"Delete first X lines of a database  \", \"rating\": \"Avi: \\ud83d\\udfca\\ud83d\\udfca\\ud83d\\udfca\\u2606\\u2606  \", \"address\": \"https://stackoverflow.com/questions/12779978/delete-first-x-lines-of-a-database  \", \"tags\": \"Avi: useful SQL atomic how-to  \"}, \"8\": {\"title\": \"Initial Template for Jupyter Notebook (this was the base we used)  \", \"rating\": \"Avi: \\ud83d\\udfca\\ud83d\\udfca\\ud83d\\udfca\\u2606\\u2606  \", \"address\": \"https://stackoverflow.com/questions/50973191/connect-to-mysql-db-from-jupyter-notebook  \", \"tags\": \"Avi: non-comprehensive useful starter  \"}, \"9\": {\"title\": \"High level overview of running SQL scripts from Jupyter Notebook, in plain English  \", \"rating\": \"Avi: \\ud83d\\udfca\\ud83d\\udfca\\ud83d\\udfca\\u2606\\u2606  \", \"address\": \"https://support.labs.cognitiveclass.ai/knowledgebase/articles/831621-access-mysql-from-python-notebook-using-mysqldb  \", \"tags\": \"Avi: generalized high-level useful conceptual  \"}}\n"
     ]
    }
   ],
   "source": [
    "app_json = json.dumps(items_dict)\n",
    "print(app_json)"
   ]
  },
  {
   "cell_type": "code",
   "execution_count": 744,
   "metadata": {},
   "outputs": [
    {
     "name": "stdout",
     "output_type": "stream",
     "text": [
      "{\n",
      "  \"0\": {\n",
      "    \"title\": \"Querying A MySQL Table Using PyMySQL  \",\n",
      "    \"rating\": \"Avi: \\ud83d\\udfca\\ud83d\\udfca\\ud83d\\udfca\\ud83d\\udfca\\ud83d\\udfca  \",\n",
      "    \"address\": \"https://pythontic.com/database/mysql/query%20a%20table  \",\n",
      "    \"tags\": \"Avi: well-written useful clear would-recommend  \"\n",
      "  },\n",
      "  \"1\": {\n",
      "    \"title\": \"PyMySQL Docs Walkthrough Example  \",\n",
      "    \"rating\": \"Avi: \\ud83d\\udfca\\ud83d\\udfca\\ud83d\\udfca\\ud83d\\udfca\\ud83d\\udfca  \",\n",
      "    \"address\": \"https://pymysql.readthedocs.io/en/latest/user/examples.html  \",\n",
      "    \"tags\": \"Avi: useful clear would-recommend  \"\n",
      "  },\n",
      "  \"2\": {\n",
      "    \"title\": \"Awesome Breakdown of SQLalchemy for SQL queries in Pandas:  \",\n",
      "    \"rating\": \"Avi: \\ud83d\\udfca\\ud83d\\udfca\\ud83d\\udfca\\ud83d\\udfca\\u2606  \",\n",
      "    \"address\": \"https://wellsr.com/python/import-sql-data-query-into-pandas-dataframe-with-sqlalchemy/  \",\n",
      "    \"tags\": \"Avi: high-level useful combo-technique advanced  \"\n",
      "  },\n",
      "  \"3\": {\n",
      "    \"title\": \"Pandas to SQL  \",\n",
      "    \"rating\": \"Avi: \\ud83d\\udfca\\ud83d\\udfca\\ud83d\\udfca\\ud83d\\udfca\\u2606  \",\n",
      "    \"address\": \"https://medium.com/jbennetcodes/how-to-rewrite-your-sql-queries-in-pandas-and-more-149d341fc53e  \",\n",
      "    \"tags\": \"Avi: well-written leap-frogging  \"\n",
      "  },\n",
      "  \"4\": {\n",
      "    \"title\": \"Pandas Commands for SQL People  \",\n",
      "    \"rating\": \"Avi: \\ud83d\\udfca\\ud83d\\udfca\\ud83d\\udfca\\ud83d\\udfca\\u2606  \",\n",
      "    \"address\": \"https://hackernoon.com/pandas-cheatsheet-for-sql-people-part-1-2976894acd0  \",\n",
      "    \"tags\": \"Avi: well-written clear  \"\n",
      "  },\n",
      "  \"5\": {\n",
      "    \"title\": \"Use SQL queries on a Pandas dataframe  \",\n",
      "    \"rating\": \"Avi: \\ud83d\\udfca\\ud83d\\udfca\\ud83d\\udfca\\u2606\\u2606  \",\n",
      "    \"address\": \"https://stackoverflow.com/questions/45865608/executing-an-sql-query-over-a-pandas-dataset  \",\n",
      "    \"tags\": \"Avi: niche interesting  \"\n",
      "  },\n",
      "  \"6\": {\n",
      "    \"title\": \"DB Connection Cursor Explanation  \",\n",
      "    \"rating\": \"Avi: \\ud83d\\udfca\\ud83d\\udfca\\ud83d\\udfca\\u2606\\u2606  \",\n",
      "    \"address\": \"https://stackoverflow.com/questions/28530508/select-query-in-pymysql  \",\n",
      "    \"tags\": \"Avi: foundational  \"\n",
      "  },\n",
      "  \"7\": {\n",
      "    \"title\": \"Delete first X lines of a database  \",\n",
      "    \"rating\": \"Avi: \\ud83d\\udfca\\ud83d\\udfca\\ud83d\\udfca\\u2606\\u2606  \",\n",
      "    \"address\": \"https://stackoverflow.com/questions/12779978/delete-first-x-lines-of-a-database  \",\n",
      "    \"tags\": \"Avi: useful SQL atomic how-to  \"\n",
      "  },\n",
      "  \"8\": {\n",
      "    \"title\": \"Initial Template for Jupyter Notebook (this was the base we used)  \",\n",
      "    \"rating\": \"Avi: \\ud83d\\udfca\\ud83d\\udfca\\ud83d\\udfca\\u2606\\u2606  \",\n",
      "    \"address\": \"https://stackoverflow.com/questions/50973191/connect-to-mysql-db-from-jupyter-notebook  \",\n",
      "    \"tags\": \"Avi: non-comprehensive useful starter  \"\n",
      "  },\n",
      "  \"9\": {\n",
      "    \"title\": \"High level overview of running SQL scripts from Jupyter Notebook, in plain English  \",\n",
      "    \"rating\": \"Avi: \\ud83d\\udfca\\ud83d\\udfca\\ud83d\\udfca\\u2606\\u2606  \",\n",
      "    \"address\": \"https://support.labs.cognitiveclass.ai/knowledgebase/articles/831621-access-mysql-from-python-notebook-using-mysqldb  \",\n",
      "    \"tags\": \"Avi: generalized high-level useful conceptual  \"\n",
      "  }\n",
      "}\n"
     ]
    }
   ],
   "source": [
    "# https://stackoverflow.com/questions/18873066/pretty-json-formatting-in-ipython-notebook\n",
    "print(json.dumps(items_dict, indent=2))"
   ]
  },
  {
   "cell_type": "code",
   "execution_count": 745,
   "metadata": {},
   "outputs": [],
   "source": [
    "# https://stackoverflow.com/questions/12739911/how-to-split-a-string-within-a-list-to-create-key-value-pairs-in-python\n",
    "for (k, v) in items_dict.items():\n",
    "    s = v['rating']\n",
    "    s2 = s.strip().split(\" \")[1]\n",
    "    count = 0\n",
    "    for s in s2:\n",
    "        if ord(s) == 128970:\n",
    "            count = count + 1\n",
    "    #print(\"count\",count)\n",
    "    v['rating'] = {s.strip().split(\" \")[0]:count} # v['rating'] = {s.strip().split(\" \")[0]:s.find('🟊')}\n",
    "    s = v['tags']\n",
    "    v['tags'] = {s.strip().split(\" \")[0]:s.strip().split(\" \")[1:]}"
   ]
  },
  {
   "cell_type": "code",
   "execution_count": 746,
   "metadata": {},
   "outputs": [
    {
     "name": "stdout",
     "output_type": "stream",
     "text": [
      "{\n",
      "  \"0\": {\n",
      "    \"title\": \"Querying A MySQL Table Using PyMySQL  \",\n",
      "    \"rating\": {\n",
      "      \"\\ud83d\\udfca\": 5\n",
      "    },\n",
      "    \"address\": \"https://pythontic.com/database/mysql/query%20a%20table  \",\n",
      "    \"tags\": {\n",
      "      \"Avi:\": [\n",
      "        \"well-written\",\n",
      "        \"useful\",\n",
      "        \"clear\",\n",
      "        \"would-recommend\"\n",
      "      ]\n",
      "    }\n",
      "  },\n",
      "  \"1\": {\n",
      "    \"title\": \"PyMySQL Docs Walkthrough Example  \",\n",
      "    \"rating\": {\n",
      "      \"\\ud83d\\udfca\": 5\n",
      "    },\n",
      "    \"address\": \"https://pymysql.readthedocs.io/en/latest/user/examples.html  \",\n",
      "    \"tags\": {\n",
      "      \"Avi:\": [\n",
      "        \"useful\",\n",
      "        \"clear\",\n",
      "        \"would-recommend\"\n",
      "      ]\n",
      "    }\n",
      "  },\n",
      "  \"2\": {\n",
      "    \"title\": \"Awesome Breakdown of SQLalchemy for SQL queries in Pandas:  \",\n",
      "    \"rating\": {\n",
      "      \"\\u2606\": 4\n",
      "    },\n",
      "    \"address\": \"https://wellsr.com/python/import-sql-data-query-into-pandas-dataframe-with-sqlalchemy/  \",\n",
      "    \"tags\": {\n",
      "      \"Avi:\": [\n",
      "        \"high-level\",\n",
      "        \"useful\",\n",
      "        \"combo-technique\",\n",
      "        \"advanced\"\n",
      "      ]\n",
      "    }\n",
      "  },\n",
      "  \"3\": {\n",
      "    \"title\": \"Pandas to SQL  \",\n",
      "    \"rating\": {\n",
      "      \"\\u2606\": 4\n",
      "    },\n",
      "    \"address\": \"https://medium.com/jbennetcodes/how-to-rewrite-your-sql-queries-in-pandas-and-more-149d341fc53e  \",\n",
      "    \"tags\": {\n",
      "      \"Avi:\": [\n",
      "        \"well-written\",\n",
      "        \"leap-frogging\"\n",
      "      ]\n",
      "    }\n",
      "  },\n",
      "  \"4\": {\n",
      "    \"title\": \"Pandas Commands for SQL People  \",\n",
      "    \"rating\": {\n",
      "      \"\\u2606\": 4\n",
      "    },\n",
      "    \"address\": \"https://hackernoon.com/pandas-cheatsheet-for-sql-people-part-1-2976894acd0  \",\n",
      "    \"tags\": {\n",
      "      \"Avi:\": [\n",
      "        \"well-written\",\n",
      "        \"clear\"\n",
      "      ]\n",
      "    }\n",
      "  },\n",
      "  \"5\": {\n",
      "    \"title\": \"Use SQL queries on a Pandas dataframe  \",\n",
      "    \"rating\": {\n",
      "      \"\\u2606\": 3\n",
      "    },\n",
      "    \"address\": \"https://stackoverflow.com/questions/45865608/executing-an-sql-query-over-a-pandas-dataset  \",\n",
      "    \"tags\": {\n",
      "      \"Avi:\": [\n",
      "        \"niche\",\n",
      "        \"interesting\"\n",
      "      ]\n",
      "    }\n",
      "  },\n",
      "  \"6\": {\n",
      "    \"title\": \"DB Connection Cursor Explanation  \",\n",
      "    \"rating\": {\n",
      "      \"\\u2606\": 3\n",
      "    },\n",
      "    \"address\": \"https://stackoverflow.com/questions/28530508/select-query-in-pymysql  \",\n",
      "    \"tags\": {\n",
      "      \"Avi:\": [\n",
      "        \"foundational\"\n",
      "      ]\n",
      "    }\n",
      "  },\n",
      "  \"7\": {\n",
      "    \"title\": \"Delete first X lines of a database  \",\n",
      "    \"rating\": {\n",
      "      \"\\u2606\": 3\n",
      "    },\n",
      "    \"address\": \"https://stackoverflow.com/questions/12779978/delete-first-x-lines-of-a-database  \",\n",
      "    \"tags\": {\n",
      "      \"Avi:\": [\n",
      "        \"useful\",\n",
      "        \"SQL\",\n",
      "        \"atomic\",\n",
      "        \"how-to\"\n",
      "      ]\n",
      "    }\n",
      "  },\n",
      "  \"8\": {\n",
      "    \"title\": \"Initial Template for Jupyter Notebook (this was the base we used)  \",\n",
      "    \"rating\": {\n",
      "      \"\\u2606\": 3\n",
      "    },\n",
      "    \"address\": \"https://stackoverflow.com/questions/50973191/connect-to-mysql-db-from-jupyter-notebook  \",\n",
      "    \"tags\": {\n",
      "      \"Avi:\": [\n",
      "        \"non-comprehensive\",\n",
      "        \"useful\",\n",
      "        \"starter\"\n",
      "      ]\n",
      "    }\n",
      "  },\n",
      "  \"9\": {\n",
      "    \"title\": \"High level overview of running SQL scripts from Jupyter Notebook, in plain English  \",\n",
      "    \"rating\": {\n",
      "      \"\\u2606\": 3\n",
      "    },\n",
      "    \"address\": \"https://support.labs.cognitiveclass.ai/knowledgebase/articles/831621-access-mysql-from-python-notebook-using-mysqldb  \",\n",
      "    \"tags\": {\n",
      "      \"Avi:\": [\n",
      "        \"generalized\",\n",
      "        \"high-level\",\n",
      "        \"useful\",\n",
      "        \"conceptual\"\n",
      "      ]\n",
      "    }\n",
      "  }\n",
      "}\n"
     ]
    }
   ],
   "source": [
    "print(json.dumps(items_dict, indent=2))"
   ]
  },
  {
   "cell_type": "code",
   "execution_count": null,
   "metadata": {},
   "outputs": [],
   "source": []
  }
 ],
 "metadata": {
  "kernelspec": {
   "display_name": "Python 3",
   "language": "python",
   "name": "python3"
  },
  "language_info": {
   "codemirror_mode": {
    "name": "ipython",
    "version": 3
   },
   "file_extension": ".py",
   "mimetype": "text/x-python",
   "name": "python",
   "nbconvert_exporter": "python",
   "pygments_lexer": "ipython3",
   "version": "3.7.3"
  }
 },
 "nbformat": 4,
 "nbformat_minor": 2
}
