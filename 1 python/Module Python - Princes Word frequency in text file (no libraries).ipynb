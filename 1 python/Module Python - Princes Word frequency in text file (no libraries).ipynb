{
 "cells": [
  {
   "cell_type": "markdown",
   "metadata": {},
   "source": [
    "## 0. Take in a text file, save as a string"
   ]
  },
  {
   "cell_type": "code",
   "execution_count": 1,
   "metadata": {},
   "outputs": [],
   "source": [
    "data = \"\"\n",
    "\n",
    "with open('princes_avi.txt', 'r') as f:\n",
    "    data = f.read()"
   ]
  },
  {
   "cell_type": "markdown",
   "metadata": {},
   "source": [
    "## 1. Inspect the string"
   ]
  },
  {
   "cell_type": "code",
   "execution_count": 2,
   "metadata": {},
   "outputs": [
    {
     "data": {
      "text/plain": [
       "'Once upon a time, there were 11 princes who liked to dance. The princes had a father and he was king of the land. The king wasn\\'t so good at dancing, and was embarassed to say so. So, one day, the king asked the king\\'s best soldier, \"Soldier, can you teach me how to dance?\" The soldier answered, \"Yes, your highness, I can.\" And they lived happily ever after.'"
      ]
     },
     "execution_count": 2,
     "metadata": {},
     "output_type": "execute_result"
    }
   ],
   "source": [
    "data"
   ]
  },
  {
   "cell_type": "markdown",
   "metadata": {},
   "source": [
    "## 2. Cut the string up into individual words"
   ]
  },
  {
   "cell_type": "code",
   "execution_count": 3,
   "metadata": {},
   "outputs": [
    {
     "name": "stdout",
     "output_type": "stream",
     "text": [
      "['Once', 'upon', 'a', 'time,', 'there', 'were', '11', 'princes', 'who', 'liked', 'to', 'dance.', 'The', 'princes', 'had', 'a', 'father', 'and', 'he', 'was', 'king', 'of', 'the', 'land.', 'The', 'king', \"wasn't\", 'so', 'good', 'at', 'dancing,', 'and', 'was', 'embarassed', 'to', 'say', 'so.', 'So,', 'one', 'day,', 'the', 'king', 'asked', 'the', \"king's\", 'best', 'soldier,', '\"Soldier,', 'can', 'you', 'teach', 'me', 'how', 'to', 'dance?\"', 'The', 'soldier', 'answered,', '\"Yes,', 'your', 'highness,', 'I', 'can.\"', 'And', 'they', 'lived', 'happily', 'ever', 'after.']\n"
     ]
    }
   ],
   "source": [
    "# split up a string (by default, by spaces)\n",
    "list_1 = data.split() # individual words\n",
    "print(list_1)"
   ]
  },
  {
   "cell_type": "code",
   "execution_count": 4,
   "metadata": {},
   "outputs": [
    {
     "name": "stdout",
     "output_type": "stream",
     "text": [
      "['Once', 'upon', 'a', 'time,', 'there', 'were', '11', 'princes', 'who', 'liked']\n"
     ]
    }
   ],
   "source": [
    "# just look at the 1st 10 items in a list\n",
    "print(list_1[:10])"
   ]
  },
  {
   "cell_type": "markdown",
   "metadata": {},
   "source": [
    "## 3. Realize we don't want punctuation mixed up with words"
   ]
  },
  {
   "cell_type": "markdown",
   "metadata": {},
   "source": [
    "## 4. Remove punctuation from original data before splitting"
   ]
  },
  {
   "cell_type": "code",
   "execution_count": 5,
   "metadata": {},
   "outputs": [
    {
     "name": "stdout",
     "output_type": "stream",
     "text": [
      "Once upon a time there were 11 princes who liked to dance The princes had a father and he was king of the land The king wasn't so good at dancing and was embarassed to say so So one day the king asked the king's best soldier Soldier can you teach me how to dance The soldier answered Yes your highness I can And they lived happily ever after\n"
     ]
    }
   ],
   "source": [
    "# make copy of data\n",
    "data_2 = \"\"\n",
    "punctuation = '.,?\"'\n",
    "for letter in data:\n",
    "    if letter not in punctuation:\n",
    "        data_2 += letter\n",
    "\n",
    "print(data_2) # inspect data_2"
   ]
  },
  {
   "cell_type": "markdown",
   "metadata": {},
   "source": [
    "## 5. Realize we want to compare words regardless of capitalization"
   ]
  },
  {
   "cell_type": "markdown",
   "metadata": {},
   "source": [
    "## 6. Convert the story to all lowercase letters"
   ]
  },
  {
   "cell_type": "code",
   "execution_count": 6,
   "metadata": {},
   "outputs": [
    {
     "name": "stdout",
     "output_type": "stream",
     "text": [
      "once upon a time there were 11 princes who liked to dance the princes had a father and he was king of the land the king wasn't so good at dancing and was embarassed to say so so one day the king asked the king's best soldier soldier can you teach me how to dance the soldier answered yes your highness i can and they lived happily ever after\n"
     ]
    }
   ],
   "source": [
    "# make our story entirely lowercase\n",
    "data_2 = str.lower(data_2)\n",
    "print(data_2)"
   ]
  },
  {
   "cell_type": "markdown",
   "metadata": {},
   "source": [
    "## 7. Make a dictionary of unique words where word frequency is the value"
   ]
  },
  {
   "cell_type": "code",
   "execution_count": 7,
   "metadata": {},
   "outputs": [
    {
     "name": "stdout",
     "output_type": "stream",
     "text": [
      "{'highness', 'they', 'and', 'can', 'teach', 'day', 'one', '11', 'liked', 'best', 'dance', 'say', 'i', 'king', 'so', 'you', 'to', 'dancing', 'embarassed', 'who', \"wasn't\", 'happily', 'were', \"king's\", 'soldier', 'princes', 'had', 'ever', 'your', 'the', 'at', 'he', 'upon', 'there', 'how', 'me', 'land', 'once', 'time', 'a', 'answered', 'lived', 'yes', 'father', 'asked', 'good', 'after', 'was', 'of'}\n"
     ]
    }
   ],
   "source": [
    "# First, let's determine the keys by converting\n",
    "# our list of words into a unique set\n",
    "list_2 = data_2.split()\n",
    "set_1 = set(list_2)\n",
    "print(set_1)"
   ]
  },
  {
   "cell_type": "code",
   "execution_count": 8,
   "metadata": {},
   "outputs": [
    {
     "name": "stdout",
     "output_type": "stream",
     "text": [
      "{'highness': 0, 'they': 0, 'and': 0, 'can': 0, 'teach': 0, 'day': 0, 'one': 0, '11': 0, 'liked': 0, 'best': 0, 'dance': 0, 'say': 0, 'i': 0, 'king': 0, 'so': 0, 'you': 0, 'to': 0, 'dancing': 0, 'embarassed': 0, 'who': 0, \"wasn't\": 0, 'happily': 0, 'were': 0, \"king's\": 0, 'soldier': 0, 'princes': 0, 'had': 0, 'ever': 0, 'your': 0, 'the': 0, 'at': 0, 'he': 0, 'upon': 0, 'there': 0, 'how': 0, 'me': 0, 'land': 0, 'once': 0, 'time': 0, 'a': 0, 'answered': 0, 'lived': 0, 'yes': 0, 'father': 0, 'asked': 0, 'good': 0, 'after': 0, 'was': 0, 'of': 0}\n"
     ]
    }
   ],
   "source": [
    "# Secondly, let's create an empty dictionary where all the values are 0\n",
    "dict_1 = dict.fromkeys(set_1, 0)\n",
    "print(dict_1)"
   ]
  },
  {
   "cell_type": "code",
   "execution_count": 9,
   "metadata": {},
   "outputs": [
    {
     "name": "stdout",
     "output_type": "stream",
     "text": [
      "{'highness': 1, 'they': 1, 'and': 3, 'can': 2, 'teach': 1, 'day': 1, 'one': 1, '11': 1, 'liked': 1, 'best': 1, 'dance': 2, 'say': 1, 'i': 1, 'king': 3, 'so': 3, 'you': 1, 'to': 3, 'dancing': 1, 'embarassed': 1, 'who': 1, \"wasn't\": 1, 'happily': 1, 'were': 1, \"king's\": 1, 'soldier': 3, 'princes': 2, 'had': 1, 'ever': 1, 'your': 1, 'the': 6, 'at': 1, 'he': 1, 'upon': 1, 'there': 1, 'how': 1, 'me': 1, 'land': 1, 'once': 1, 'time': 1, 'a': 2, 'answered': 1, 'lived': 1, 'yes': 1, 'father': 1, 'asked': 1, 'good': 1, 'after': 1, 'was': 2, 'of': 1}\n"
     ]
    }
   ],
   "source": [
    "# Thirdly and lastly, we must update the count values for each word\n",
    "# by looping through our story and counting up each word\n",
    "\n",
    "for word in list_2:\n",
    "    if word in dict_1:\n",
    "        dict_1[word] += 1\n",
    "        \n",
    "print(dict_1)"
   ]
  },
  {
   "cell_type": "markdown",
   "metadata": {},
   "source": [
    "## 8. To \"Sort\" the dictionary,"
   ]
  },
  {
   "cell_type": "markdown",
   "metadata": {},
   "source": [
    "## 9. Firstly, convert dictionary to a list of tuples"
   ]
  },
  {
   "cell_type": "code",
   "execution_count": 10,
   "metadata": {},
   "outputs": [
    {
     "name": "stdout",
     "output_type": "stream",
     "text": [
      "[('highness', 1), ('they', 1), ('and', 3), ('can', 2), ('teach', 1), ('day', 1), ('one', 1), ('11', 1), ('liked', 1), ('best', 1)]\n"
     ]
    }
   ],
   "source": [
    "list_3 = list(dict_1.items())\n",
    "print(list_3[:10])"
   ]
  },
  {
   "cell_type": "markdown",
   "metadata": {},
   "source": [
    "## 10. Secondly, sort list of tuples"
   ]
  },
  {
   "cell_type": "code",
   "execution_count": 11,
   "metadata": {},
   "outputs": [
    {
     "name": "stdout",
     "output_type": "stream",
     "text": [
      "[('the', 6), ('soldier', 3), ('to', 3), ('so', 3), ('king', 3), ('and', 3), ('was', 2), ('a', 2), ('princes', 2), ('dance', 2), ('can', 2), ('of', 1), ('after', 1), ('good', 1)]\n"
     ]
    }
   ],
   "source": [
    "list_4_sorted = sorted(list_3, key=lambda x: x[1])\n",
    "print(list_4_sorted[-1:-15:-1])"
   ]
  },
  {
   "cell_type": "markdown",
   "metadata": {},
   "source": [
    "Now that we have \"sorted\" the dictionary, we can see the highest frequency words:  \n",
    "**the, king, soldier, to, and, so**"
   ]
  }
 ],
 "metadata": {
  "kernelspec": {
   "display_name": "Python 3",
   "language": "python",
   "name": "python3"
  },
  "language_info": {
   "codemirror_mode": {
    "name": "ipython",
    "version": 3
   },
   "file_extension": ".py",
   "mimetype": "text/x-python",
   "name": "python",
   "nbconvert_exporter": "python",
   "pygments_lexer": "ipython3",
   "version": "3.7.3"
  }
 },
 "nbformat": 4,
 "nbformat_minor": 2
}
