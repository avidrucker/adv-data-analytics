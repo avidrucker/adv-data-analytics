{
 "cells": [
  {
   "cell_type": "markdown",
   "metadata": {},
   "source": [
    "# SQL Queries from Jupyter Notebook\n",
    "\n",
    "Given a set of SQL instructions, can you connect to an empty database made in MySQL Workbench?\n",
    "\n",
    "Activity name: **\"Create a Database of Students and Courses\"**\n",
    "\n",
    "Ingredients:\n",
    "- MySQL Workbench\n",
    "- Jupyter Notebook\n",
    "- MCSTUDENTS.sql script file"
   ]
  },
  {
   "cell_type": "markdown",
   "metadata": {},
   "source": [
    "### Step 1: Make a new database in MySQL Workbench\n",
    "\n",
    "```sql\n",
    "CREATE database People;\n",
    "use People;\n",
    "\n",
    "CREATE TABLE MCStudents (\n",
    "\tID int NOT NULL AUTO_INCREMENT,\n",
    "    FirstName varchar(255) NOT NULL,\n",
    "    LastName varchar(255),\n",
    "    Address varchar(255),\n",
    "    City varchar(255),\n",
    "    State varchar(255),\n",
    "    ZIP varchar(255),\n",
    "    Phone varchar(255),\n",
    "    PRIMARY KEY (ID)\n",
    ");\n",
    "```"
   ]
  },
  {
   "cell_type": "markdown",
   "metadata": {},
   "source": [
    "### Step 2: Now, in a Jupyter NB, import useful libraries"
   ]
  },
  {
   "cell_type": "code",
   "execution_count": null,
   "metadata": {},
   "outputs": [],
   "source": [
    "import os\n",
    "import pymysql\n",
    "import pandas as pd"
   ]
  },
  {
   "cell_type": "markdown",
   "metadata": {},
   "source": [
    "### Step 3: To connect to the DB, get req. parameters "
   ]
  },
  {
   "cell_type": "code",
   "execution_count": null,
   "metadata": {},
   "outputs": [],
   "source": [
    "# every computer has what are called \"environment variables\"\n",
    "# try typing \"set\" into your computer's command line (CMD) to inspect\n",
    "# host refers to the computer you are on\n",
    "host = os.getenv('MYSQL_HOST') # if doesn't work, try: \"localhost\"\n",
    "# ports are connections or doorways to programs\n",
    "port = os.getenv('MYSQL_PORT') # always 3306, this is the standard (1521 for Oracle)\n",
    "user = os.getenv('MYSQL_USER') # we use \"root\" (not \"secure\")\n",
    "#password = os.getenv('MYSQL_PASSWORD') # this may or may not be set\n",
    "password = \"password\" # password for the local machine here is \"password\"\n",
    "database = os.getenv('MYSQL_DATABASE') # the DB is always running & listening for queries"
   ]
  },
  {
   "cell_type": "markdown",
   "metadata": {},
   "source": [
    "### Step 4: Connect to the database"
   ]
  },
  {
   "cell_type": "code",
   "execution_count": null,
   "metadata": {},
   "outputs": [],
   "source": [
    "# The pymysql library offers a \"connector\" we may use\n",
    "conn = pymysql.connect(\n",
    "    host=host,\n",
    "    port=int(3306),\n",
    "    user=\"root\",\n",
    "    passwd=password,\n",
    "    db=\"people\",\n",
    "    charset='utf8mb4')"
   ]
  },
  {
   "cell_type": "markdown",
   "metadata": {},
   "source": [
    "### Step 5: Test query functionality\n",
    "- Create a cursor\n",
    "- Decide what to query\n",
    "- Execute the query"
   ]
  },
  {
   "cell_type": "code",
   "execution_count": null,
   "metadata": {},
   "outputs": [],
   "source": [
    "# make a cursor\n",
    "cursor = conn.cursor()\n",
    "\n",
    "# define a couple queries (insert to create an entry, select to view entries)\n",
    "queryAddItem = \"INSERT INTO MCStudents (FirstName,LastName,Address,City,State,ZIP,Phone) VALUES ('Cynthia','Ratliff','1448 Lorem Avenue','Toledo','PA','340339','594-0126');\"\n",
    "querySelectAll = \"SELECT * FROM MCStudents\" # see everything\n",
    "\n",
    "# Execute the query\n",
    "cursor.execute(queryAddItem)"
   ]
  },
  {
   "cell_type": "code",
   "execution_count": null,
   "metadata": {},
   "outputs": [],
   "source": [
    "# We make another query to view our database table changes\n",
    "# This wone can be done with a built in Pandas function\n",
    "snapshot = pd.read_sql_query(\"SELECT * FROM MCStudents\", conn)\n",
    "snapshot"
   ]
  },
  {
   "cell_type": "markdown",
   "metadata": {},
   "source": [
    "### Step 6: Clean up test work"
   ]
  },
  {
   "cell_type": "code",
   "execution_count": null,
   "metadata": {},
   "outputs": [],
   "source": [
    "queryDeleteFirstItem = \"DELETE FROM MCStudents WHERE ID > 0 LIMIT 1;\"\n",
    "cursor.execute(queryDeleteFirstItem)\n",
    "snapshot = pd.read_sql_query(\"SELECT * FROM MCStudents\", conn)\n",
    "snapshot"
   ]
  },
  {
   "cell_type": "markdown",
   "metadata": {},
   "source": [
    "### Step 7: Read in script with SQL queries"
   ]
  },
  {
   "cell_type": "code",
   "execution_count": null,
   "metadata": {},
   "outputs": [],
   "source": [
    "location = \"MCSTUDENTS.sql\"\n",
    "data = \"\" # we can import this SQL script just like importing/reading in a text file\n",
    "with open(location, 'r') as f:\n",
    "    data = f.read()\n",
    "data[:500] # peek at the first 500 characters of the imported sql script"
   ]
  },
  {
   "cell_type": "markdown",
   "metadata": {},
   "source": [
    "turns out, the sql script came in with new line characters \"\\n\" so, ~~let's convert them to spaces~~ let's convert them to a list of query strings"
   ]
  },
  {
   "cell_type": "code",
   "execution_count": null,
   "metadata": {},
   "outputs": [],
   "source": [
    "data = data.split(\"\\n\") #data = data.replace(\"\\n\",\" \")\n",
    "data[:7]"
   ]
  },
  {
   "cell_type": "markdown",
   "metadata": {},
   "source": [
    "### Step 8: Run queries run"
   ]
  },
  {
   "cell_type": "code",
   "execution_count": null,
   "metadata": {},
   "outputs": [],
   "source": [
    "#cursor.execute(data) # executing all the queries at once doesn't seem to work...\n",
    "for q in data: # ... a loop performs quite nicely to execute each query one by one\n",
    "    cursor.execute(q)"
   ]
  },
  {
   "cell_type": "code",
   "execution_count": null,
   "metadata": {},
   "outputs": [],
   "source": [
    "snapshot = pd.read_sql_query(\"SELECT * FROM MCStudents\", conn)\n",
    "snapshot.tail(10)"
   ]
  },
  {
   "cell_type": "markdown",
   "metadata": {},
   "source": [
    "### Step 9: Delete all table entries (Optional)"
   ]
  },
  {
   "cell_type": "code",
   "execution_count": null,
   "metadata": {},
   "outputs": [],
   "source": [
    "# to use, uncomment the 4 lines below\n",
    "#queryDeleteAll = \"DELETE FROM MCStudents WHERE ID > 0;\"\n",
    "#cursor.execute(queryDeleteAll)\n",
    "#snapshot = pd.read_sql_query(\"SELECT * FROM MCStudents\", conn)\n",
    "#snapshot"
   ]
  }
 ],
 "metadata": {
  "kernelspec": {
   "display_name": "Python 3",
   "language": "python",
   "name": "python3"
  },
  "language_info": {
   "codemirror_mode": {
    "name": "ipython",
    "version": 3
   },
   "file_extension": ".py",
   "mimetype": "text/x-python",
   "name": "python",
   "nbconvert_exporter": "python",
   "pygments_lexer": "ipython3",
   "version": "3.7.3"
  }
 },
 "nbformat": 4,
 "nbformat_minor": 2
}
