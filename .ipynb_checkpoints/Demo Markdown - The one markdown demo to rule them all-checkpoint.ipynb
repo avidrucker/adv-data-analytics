{
 "cells": [
  {
   "cell_type": "markdown",
   "metadata": {},
   "source": [
    "# Markdown demo from [markdown-it demo](https://markdown-it.github.io/)\n",
    "\n",
    "This is also fantastic: https://commonmark.org/help/\n",
    "        \n",
    "And this: https://www.markdownguide.org/cheat-sheet"
   ]
  },
  {
   "cell_type": "markdown",
   "metadata": {},
   "source": [
    "# [Headings](#)\n",
    "\n",
    "# h1 Heading 8-)\n",
    "## h2 Heading\n",
    "### h3 Heading\n",
    "#### h4 Heading\n",
    "##### h5 Heading\n",
    "###### h6 Heading"
   ]
  },
  {
   "cell_type": "markdown",
   "metadata": {},
   "source": [
    "## [Horizontal Rules]()\n",
    "\n",
    "___\n",
    "\n",
    "---\n",
    "\n",
    "***"
   ]
  },
  {
   "cell_type": "markdown",
   "metadata": {},
   "source": [
    "## [Typographic replacements]()\n",
    "\n",
    "Enable typographer option to see result.\n",
    "\n",
    "(c) (C) (r) (R) (tm) (TM) (p) (P) +-\n",
    "\n",
    "test.. test... test..... test?..... test!....\n",
    "\n",
    "!!!!!! ???? ,,  -- ---\n",
    "\n",
    "\"Smartypants, double quotes\" and 'single quotes'"
   ]
  },
  {
   "cell_type": "markdown",
   "metadata": {},
   "source": [
    "## [Emphasis]()\n",
    "\n",
    "**This is bold text**\n",
    "\n",
    "__This is bold text__\n",
    "\n",
    "*This is italic text*\n",
    "\n",
    "_This is italic text_\n",
    "\n",
    "~~Strikethrough~~"
   ]
  },
  {
   "cell_type": "markdown",
   "metadata": {},
   "source": [
    "## [Blockquotes]()\n",
    "\n",
    "\n",
    "> Blockquotes can also be nested...\n",
    ">> ...by using additional greater-than signs right next to each other...\n",
    "> > > ...or with spaces between arrows."
   ]
  },
  {
   "cell_type": "markdown",
   "metadata": {},
   "source": [
    "## [Lists]()\n",
    "\n",
    "Unordered\n",
    "\n",
    "+ Create a list by starting a line with `+`, `-`, or `*`\n",
    "+ Sub-lists are made by indenting 2 spaces:\n",
    "  - Marker character change forces new list start:\n",
    "    * Ac tristique libero volutpat at\n",
    "    + Facilisis in pretium nisl aliquet\n",
    "    - Nulla volutpat aliquam velit\n",
    "+ Very easy!\n",
    "\n",
    "Ordered\n",
    "\n",
    "1. Lorem ipsum dolor sit amet\n",
    "2. Consectetur adipiscing elit\n",
    "3. Integer molestie lorem at massa\n",
    "\n",
    "\n",
    "1. You can use sequential numbers...\n",
    "1. ...or keep all the numbers as `1.`\n",
    "\n",
    "Start numbering with offset:\n",
    "\n",
    "57. foo\n",
    "1. bar"
   ]
  },
  {
   "cell_type": "markdown",
   "metadata": {},
   "source": [
    "## [Code]()\n",
    "\n",
    "Inline `code`\n",
    "\n",
    "Indented code\n",
    "\n",
    "    // Some comments\n",
    "    line 1 of code\n",
    "    line 2 of code\n",
    "    line 3 of code\n",
    "\n",
    "\n",
    "Block code \"fences\"\n",
    "\n",
    "```\n",
    "Sample text here...\n",
    "```\n",
    "\n",
    "Syntax highlighting\n",
    "\n",
    "``` js\n",
    "var foo = function (bar) {\n",
    "  return bar++;\n",
    "};\n",
    "\n",
    "console.log(foo(5));\n",
    "```"
   ]
  },
  {
   "cell_type": "markdown",
   "metadata": {},
   "source": [
    "## [Tables]()\n",
    "\n",
    "| Option | Description |\n",
    "| ------ | ----------- |\n",
    "| data   | path to data files to supply the data that will be passed into templates. |\n",
    "| engine | engine to be used for processing templates. Handlebars is the default. |\n",
    "| ext    | extension to be used for dest files. |\n",
    "\n",
    "Right aligned columns\n",
    "\n",
    "| Option | Description |\n",
    "| ------:| -----------:|\n",
    "| data   | path to data files to supply the data that will be passed into templates. |\n",
    "| engine | engine to be used for processing templates. Handlebars is the default. |\n",
    "| ext    | extension to be used for dest files. |"
   ]
  },
  {
   "cell_type": "markdown",
   "metadata": {},
   "source": [
    "## [Links]()\n",
    "\n",
    "[link text](http://dev.nodeca.com)\n",
    "\n",
    "[link with title](http://nodeca.github.io/pica/demo/ \"title text!\")\n",
    "\n",
    "Autoconverted link https://github.com/nodeca/pica (enable linkify to see)"
   ]
  },
  {
   "cell_type": "markdown",
   "metadata": {},
   "source": [
    "## [Images]()\n",
    "\n",
    "![Minion](https://octodex.github.com/images/minion.png)\n",
    "![Stormtroopocat](https://octodex.github.com/images/stormtroopocat.jpg \"The Stormtroopocat\")\n",
    "\n",
    "Like links, Images also have a footnote style syntax\n",
    "\n",
    "![Alt text][id]\n",
    "\n",
    "With a reference later in the document defining the URL location:\n",
    "\n",
    "[id]: https://octodex.github.com/images/dojocat.jpg  \"The Dojocat\""
   ]
  },
  {
   "cell_type": "markdown",
   "metadata": {},
   "source": [
    "### [\\<ins>](https://github.com/markdown-it/markdown-it-ins)\n",
    "\n",
    "++Inserted text++"
   ]
  },
  {
   "cell_type": "markdown",
   "metadata": {},
   "source": [
    "### [\\<mark>](https://github.com/markdown-it/markdown-it-mark)\n",
    "\n",
    "==Marked text=="
   ]
  },
  {
   "cell_type": "markdown",
   "metadata": {},
   "source": [
    "### [Footnotes](https://github.com/markdown-it/markdown-it-footnote)\n",
    "\n",
    "Footnote 1 link[^first].\n",
    "\n",
    "Footnote 2 link[^second].\n",
    "\n",
    "Inline footnote^[Text of inline footnote] definition.\n",
    "\n",
    "Duplicated footnote reference[^second].\n",
    "\n",
    "[^first]: Footnote **can have markup**\n",
    "\n",
    "    and multiple paragraphs.\n",
    "\n",
    "[^second]: Footnote text."
   ]
  },
  {
   "cell_type": "markdown",
   "metadata": {},
   "source": [
    "### [Custom containers](https://github.com/markdown-it/markdown-it-container)\n",
    "\n",
    "::: warning\n",
    "*here be dragons*\n",
    ":::"
   ]
  },
  {
   "cell_type": "code",
   "execution_count": null,
   "metadata": {},
   "outputs": [],
   "source": []
  }
 ],
 "metadata": {
  "kernelspec": {
   "display_name": "Python 3",
   "language": "python",
   "name": "python3"
  },
  "language_info": {
   "codemirror_mode": {
    "name": "ipython",
    "version": 3
   },
   "file_extension": ".py",
   "mimetype": "text/x-python",
   "name": "python",
   "nbconvert_exporter": "python",
   "pygments_lexer": "ipython3",
   "version": "3.7.3"
  }
 },
 "nbformat": 4,
 "nbformat_minor": 2
}
