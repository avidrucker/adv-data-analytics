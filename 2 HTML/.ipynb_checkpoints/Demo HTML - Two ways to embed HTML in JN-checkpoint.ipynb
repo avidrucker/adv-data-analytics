{
 "cells": [
  {
   "cell_type": "markdown",
   "metadata": {},
   "source": [
    "# Method 1: Write HTML directly into Markdown cells"
   ]
  },
  {
   "cell_type": "markdown",
   "metadata": {},
   "source": [
    "You can render out HTML directly in Jupyter Notebooks in markdown cells...\n",
    "\n",
    "```HTML\n",
    "<!DOCTYPE html>\n",
    "<html>\n",
    "<body>\n",
    "\n",
    "<h1>My First Heading</h1>\n",
    "\n",
    "<p>My first paragraph.</p>\n",
    "\n",
    "<a href=\"https://www.w3schools.com\">This is a link</a>\n",
    "\n",
    "</body>\n",
    "</html>\n",
    "```\n",
    "\n",
    "... like so:"
   ]
  },
  {
   "cell_type": "markdown",
   "metadata": {},
   "source": [
    "<!DOCTYPE html>\n",
    "<html>\n",
    "<body>\n",
    "\n",
    "<h1>My First Heading</h1>\n",
    "\n",
    "<p>My first paragraph.</p>\n",
    "\n",
    "<a href=\"https://www.w3schools.com\">This is a link</a>\n",
    "\n",
    "</body>\n",
    "</html>"
   ]
  },
  {
   "cell_type": "markdown",
   "metadata": {},
   "source": [
    "You can also render local images in markdown directly like so:  \n",
    "```![Ribbit ribbit](frog.jpg)```"
   ]
  },
  {
   "cell_type": "markdown",
   "metadata": {},
   "source": [
    "![Ribbit ribbit](frog.jpg)"
   ]
  },
  {
   "cell_type": "markdown",
   "metadata": {},
   "source": [
    "# Method 2: Render local HTML pages directly\n",
    "\n",
    "This markdown doesn't won't load in an entire web page...  \n",
    "```![Boiler Plate Web Page](boilerplate.html)```"
   ]
  },
  {
   "cell_type": "code",
   "execution_count": 2,
   "metadata": {},
   "outputs": [],
   "source": [
    "from IPython.display import IFrame"
   ]
  },
  {
   "cell_type": "markdown",
   "metadata": {},
   "source": [
    "... however, the following Python code *can* render out HTML pages :)"
   ]
  },
  {
   "cell_type": "code",
   "execution_count": 3,
   "metadata": {},
   "outputs": [
    {
     "data": {
      "text/html": [
       "\n",
       "        <iframe\n",
       "            width=\"700\"\n",
       "            height=\"600\"\n",
       "            src=\"boilerplate.html\"\n",
       "            frameborder=\"0\"\n",
       "            allowfullscreen\n",
       "        ></iframe>\n",
       "        "
      ],
      "text/plain": [
       "<IPython.lib.display.IFrame at 0x1b5d9f21cc0>"
      ]
     },
     "execution_count": 3,
     "metadata": {},
     "output_type": "execute_result"
    }
   ],
   "source": [
    "# render out an IFrame view of an HTML web page (located in the same directory)\n",
    "IFrame(src='boilerplate.html', width=700, height=600)"
   ]
  },
  {
   "cell_type": "code",
   "execution_count": 24,
   "metadata": {},
   "outputs": [
    {
     "ename": "SyntaxError",
     "evalue": "invalid syntax (<ipython-input-24-9a35de8501bb>, line 2)",
     "output_type": "error",
     "traceback": [
      "\u001b[1;36m  File \u001b[1;32m\"<ipython-input-24-9a35de8501bb>\"\u001b[1;36m, line \u001b[1;32m2\u001b[0m\n\u001b[1;33m    - https://stackoverflow.com/questions/40471533/show-output-of-html-file-in-jupyter-notebooks\u001b[0m\n\u001b[1;37m             ^\u001b[0m\n\u001b[1;31mSyntaxError\u001b[0m\u001b[1;31m:\u001b[0m invalid syntax\n"
     ]
    }
   ],
   "source": [
    "# Further Reading:\n",
    "- https://stackoverflow.com/questions/40471533/show-output-of-html-file-in-jupyter-notebooks\n",
    "- https://stackoverflow.com/questions/52969973/how-to-embed-a-website-within-ipython-notebook"
   ]
  }
 ],
 "metadata": {
  "kernelspec": {
   "display_name": "Python 3",
   "language": "python",
   "name": "python3"
  },
  "language_info": {
   "codemirror_mode": {
    "name": "ipython",
    "version": 3
   },
   "file_extension": ".py",
   "mimetype": "text/x-python",
   "name": "python",
   "nbconvert_exporter": "python",
   "pygments_lexer": "ipython3",
   "version": "3.7.3"
  }
 },
 "nbformat": 4,
 "nbformat_minor": 2
}
