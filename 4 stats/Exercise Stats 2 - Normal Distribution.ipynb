{
 "cells": [
  {
   "cell_type": "markdown",
   "metadata": {},
   "source": [
    "# Notebook Step 1: Run all cells via `Cell > Run All`"
   ]
  },
  {
   "cell_type": "code",
   "execution_count": 12,
   "metadata": {},
   "outputs": [],
   "source": [
    "from IPython.display import Image"
   ]
  },
  {
   "cell_type": "code",
   "execution_count": 13,
   "metadata": {},
   "outputs": [
    {
     "data": {
      "application/javascript": [
       "\n",
       "$('#maintoolbar-container').children('#toggleButton').remove()\n",
       "\n",
       "var toggle_button = (\"<button id='toggleButton' type='button'>Show Code</button>\");\n",
       "$('#maintoolbar-container').append(toggle_button);\n",
       "\n",
       "var code_shown = false;\n",
       "\n",
       "function code_toggle()\n",
       "{\n",
       "\n",
       "    if (code_shown)\n",
       "    {\n",
       "        console.log(\"code shown\")\n",
       "        $('div.input').hide('500');\n",
       "        $('#toggleButton').text('Show Code');\n",
       "    }\n",
       "    else\n",
       "    {\n",
       "        console.log(\"code not shown\")\n",
       "        $('div.input').show('500');\n",
       "        $('#toggleButton').text('Hide Code');\n",
       "    }\n",
       "\n",
       "    code_shown = !code_shown;\n",
       "}\n",
       "\n",
       "$(document).ready(function()\n",
       "{\n",
       "    code_shown=false;\n",
       "    $('div.input').hide();\n",
       "});\n",
       "\n",
       "$('#toggleButton').on('click', code_toggle);\n"
      ],
      "text/plain": [
       "<IPython.core.display.Javascript object>"
      ]
     },
     "metadata": {},
     "output_type": "display_data"
    }
   ],
   "source": [
    "%%javascript\n",
    "\n",
    "$('#maintoolbar-container').children('#toggleButton').remove()\n",
    "\n",
    "var toggle_button = (\"<button id='toggleButton' type='button'>Show Code</button>\");\n",
    "$('#maintoolbar-container').append(toggle_button);\n",
    "\n",
    "var code_shown = false;\n",
    "\n",
    "function code_toggle()\n",
    "{\n",
    "\n",
    "    if (code_shown)\n",
    "    {\n",
    "        console.log(\"code shown\")\n",
    "        $('div.input').hide('500');\n",
    "        $('#toggleButton').text('Show Code');\n",
    "    }\n",
    "    else\n",
    "    {\n",
    "        console.log(\"code not shown\")\n",
    "        $('div.input').show('500');\n",
    "        $('#toggleButton').text('Hide Code');\n",
    "    }\n",
    "\n",
    "    code_shown = !code_shown;\n",
    "}\n",
    "\n",
    "$(document).ready(function()\n",
    "{\n",
    "    code_shown=false;\n",
    "    $('div.input').hide();\n",
    "});\n",
    "\n",
    "$('#toggleButton').on('click', code_toggle);"
   ]
  },
  {
   "cell_type": "code",
   "execution_count": 14,
   "metadata": {},
   "outputs": [
    {
     "data": {
      "application/javascript": [
       "\n",
       "$('#maintoolbar-container').children('#outputsToggleButton').remove()\n",
       "\n",
       "var outputs_toggle_button = (\"<button id='outputsToggleButton' type='button'>Show Outputs</button>\");\n",
       "$('#maintoolbar-container').append(outputs_toggle_button);\n",
       "\n",
       "var outputs_shown = false;\n",
       "\n",
       "function outputs_toggle()\n",
       "{\n",
       "\n",
       "    if (outputs_shown)\n",
       "    {\n",
       "        console.log(\"outputs shown\")\n",
       "        $('div.output').hide('500');\n",
       "        $('#outputsToggleButton').text('Show Outputs');\n",
       "    }\n",
       "    else\n",
       "    {\n",
       "        console.log(\"outputs not shown\")\n",
       "        $('div.output').show('500');\n",
       "        $('#outputsToggleButton').text('Hide Outputs');\n",
       "    }\n",
       "\n",
       "    outputs_shown = !outputs_shown;\n",
       "}\n",
       "\n",
       "$(document).ready(function()\n",
       "{\n",
       "    outputs_shown=false;\n",
       "    $('div.output').hide();\n",
       "});\n",
       "\n",
       "$('#outputsToggleButton').on('click', outputs_toggle);\n"
      ],
      "text/plain": [
       "<IPython.core.display.Javascript object>"
      ]
     },
     "metadata": {},
     "output_type": "display_data"
    }
   ],
   "source": [
    "%%javascript\n",
    "\n",
    "$('#maintoolbar-container').children('#outputsToggleButton').remove()\n",
    "\n",
    "var outputs_toggle_button = (\"<button id='outputsToggleButton' type='button'>Show Outputs</button>\");\n",
    "$('#maintoolbar-container').append(outputs_toggle_button);\n",
    "\n",
    "var outputs_shown = false;\n",
    "\n",
    "function outputs_toggle()\n",
    "{\n",
    "\n",
    "    if (outputs_shown)\n",
    "    {\n",
    "        console.log(\"outputs shown\")\n",
    "        $('div.output').hide('500');\n",
    "        $('#outputsToggleButton').text('Show Outputs');\n",
    "    }\n",
    "    else\n",
    "    {\n",
    "        console.log(\"outputs not shown\")\n",
    "        $('div.output').show('500');\n",
    "        $('#outputsToggleButton').text('Hide Outputs');\n",
    "    }\n",
    "\n",
    "    outputs_shown = !outputs_shown;\n",
    "}\n",
    "\n",
    "$(document).ready(function()\n",
    "{\n",
    "    outputs_shown=false;\n",
    "    $('div.output').hide();\n",
    "});\n",
    "\n",
    "$('#outputsToggleButton').on('click', outputs_toggle);"
   ]
  },
  {
   "cell_type": "markdown",
   "metadata": {},
   "source": [
    "## 1. Drawing a Normal Distribution\n",
    "\n",
    "**The Story**: The trunk diameter of a certain variety of pine tree is normally distributed with a mean of $\\mu$=150 and a standard deviation of $\\sigma$=30.\n",
    "\n",
    "**Your Mission**: Sketch a normal curve that describes this distribution.\n",
    "\n",
    "**Setup**: A piece of paper and pen/pencil.\n",
    "\n",
    "To see solution: Press the new **\"Show Outputs\"** button (*look to the right of the Code/Markdown dropdown*)\n",
    "***"
   ]
  },
  {
   "cell_type": "code",
   "execution_count": 15,
   "metadata": {},
   "outputs": [
    {
     "name": "stdout",
     "output_type": "stream",
     "text": [
      "\n",
      "Step 1: Sketch a normal curve.\n",
      "\n",
      "Step 2: The mean of 150 cm goes in the middle.\n",
      "\n",
      "Step 3: Each standard deviation is a distance of 30 cm.\n"
     ]
    }
   ],
   "source": [
    "print(\"\"\"\n",
    "Step 1: Sketch a normal curve.\n",
    "\n",
    "Step 2: The mean of 150 cm goes in the middle.\n",
    "\n",
    "Step 3: Each standard deviation is a distance of 30 cm.\"\"\")"
   ]
  },
  {
   "cell_type": "code",
   "execution_count": 16,
   "metadata": {},
   "outputs": [
    {
     "data": {
      "image/png": "[encoded data removed]",
      "text/plain": [
       "<IPython.core.display.Image object>"
      ]
     },
     "execution_count": 16,
     "metadata": {},
     "output_type": "execute_result"
    }
   ],
   "source": [
    "Image(\"tree_trunks.png\")"
   ]
  },
  {
   "cell_type": "markdown",
   "metadata": {},
   "source": [
    "***"
   ]
  },
  {
   "cell_type": "markdown",
   "metadata": {},
   "source": [
    "## 2. Finding the Standard Deviation:\n",
    "\n",
    "**The Story**: A local construction company is testing the strength of concrete cubes. Using the results from their tests to crush 20 cubes, find the standard deviation of pressure needed to crush said concrete (in megapascals \"MPa\").\n",
    "\n",
    "**Your Mission**: Solve for the STD of MPa in the cell below.\n",
    "\n",
    "**Setup**: Import dataset \"dataset_stats_crushing.csv\"\n",
    "\n",
    "To see solution: See \"Solution Sets\" link at the bottom of this Jupyter Notebok."
   ]
  },
  {
   "cell_type": "code",
   "execution_count": 17,
   "metadata": {},
   "outputs": [],
   "source": [
    "# Import necessary Python libraries\n",
    "\n"
   ]
  },
  {
   "cell_type": "code",
   "execution_count": 18,
   "metadata": {},
   "outputs": [],
   "source": [
    "# Import dataset here\n",
    "\n"
   ]
  },
  {
   "cell_type": "code",
   "execution_count": 19,
   "metadata": {},
   "outputs": [],
   "source": [
    "# Run code here to calculate the STD\n",
    "\n"
   ]
  },
  {
   "cell_type": "code",
   "execution_count": null,
   "metadata": {},
   "outputs": [],
   "source": []
  },
  {
   "cell_type": "markdown",
   "metadata": {},
   "source": [
    "## Bibliography:\n",
    "\n",
    "- [Khan Academy Normal distributions review](https://www.khanacademy.org/math/statistics-probability/modeling-distributions-of-data/normal-distributions-library/a/normal-distributions-review)"
   ]
  },
  {
   "cell_type": "markdown",
   "metadata": {},
   "source": [
    "## References:\n",
    "- [Stack Overflow: jupyter notebook command for hide the output of a cell](https://stackoverflow.com/questions/37154329/jupyter-notebook-command-for-hide-the-output-of-a-cell) gotten to by a [Google search for \"jupyter notebook hide output\"](https://www.google.com/search?q=jupyternotebook+hide+output&oq=jupyternotebook+hide+output&aqs=chrome..69i57j0l4.5592j0j7&sourceid=chrome&ie=UTF-8)"
   ]
  },
  {
   "cell_type": "markdown",
   "metadata": {},
   "source": [
    "## Further Reading on SD:\n",
    "\n",
    "- For more indepth insights into Standard Deviation and its various forms:\n",
    "    - https://en.m.wikipedia.org/wiki/Standard_deviation\n",
    "    - https://en.wikipedia.org/wiki/Standard_deviation \n",
    "- Short & sweet: [SD in 30 Seconds](http://www.techbookreport.com/tutorials/stddev-30-secs.html)\n",
    "- Great real world (subject matter related) context of/for SD: http://saltsoftware.com/blog/2018/10/10/understanding-standard-deviation/\n",
    "- Colorful & easy to understand: https://www.mathsisfun.com/data/standard-normal-distribution.html\n",
    "- Decently presented: https://www.varsitytutors.com/hotmath/hotmath_help/topics/normal-distribution-of-data\n",
    "- Short but illustrative: https://www.dummies.com/education/math/statistics/finding-standard-deviation-in-a-statistical-sample/\n",
    "- Dry yet simple: https://statistics-made-easy.com/standard-deviation/\n",
    "- Long reading, but seems informative: https://www.statisticshowto.datasciencecentral.com/unbiased/\n",
    "- I really like Graham Cookson's answer: https://stats.stackexchange.com/questions/26/what-is-a-standard-deviation\n",
    "- This looks related, but it's hard to say upon first glance: https://medium.com/@peterflom/anova-why-analyze-variances-to-compare-means-e3d4bbd3c05"
   ]
  },
  {
   "cell_type": "markdown",
   "metadata": {},
   "source": [
    "## Further Reading on Jupyter Notebook Fu:\n",
    "\n",
    "- For alternative ways to alter Jupyter Notebooks to turn off entire cell display or code display (but not output display only it seems, for some reason): https://jupyter.org/jupyter-book/features/hiding.html found via a [Google search for: \"markdown hints you can hide jupyter notebook\"](https://www.google.com/search?q=markdown+hints+you+can+hide+jupyter+notebook&oq=markdown+hints+you+can+hide+jupyter+notebook&aqs=chrome..69i57.13263j0j7&sourceid=chrome&ie=UTF-8)"
   ]
  },
  {
   "cell_type": "markdown",
   "metadata": {},
   "source": [
    "## Quote from [Your Dictionary Site](https://examples.yourdictionary.com/examples-of-standard-deviation.html)\n",
    "\n",
    "Some examples of situations in which standard deviation might help to understand the value of the data:\n",
    "\n",
    "- A class of students took a math test. Their teacher found that the mean score on the test was an 85%. She then calculated the standard deviation of the other test scores and found a very small standard deviation which suggested that most students scored very close to 85%.\n",
    "- A dog walker wants to determine if the dogs on his route are close in weight or not close in weight. He takes the average of the weight of all ten dogs. He then calculates the variance, and then the standard deviation. His standard deviation is extremely high. This suggests that the dogs are of many various weights, or that he has a few dogs whose weights are outliers that are skewing the data.\n",
    "- A market researcher is analyzing the results of a recent customer survey. He wants to have some measure of the reliability of the answers received in the survey in order to predict how a larger group of people might answer the same questions. A low standard deviation shows that the answers are very projectable to a larger group of people.\n",
    "- A weather reporter is analyzing the high temperature forecasted for a series of dates versus the actual high temperature recorded on each date. A low standard deviation would show a reliable weather forecast.\n",
    "- A class of students took a test in Language Arts. The teacher determines that the mean grade on the exam is a 65%. She is concerned that this is very low, so she determines the standard deviation to see if it seems that most students scored close to the mean, or not. The teacher finds that the standard deviation is high. After closely examining all of the tests, the teacher is able to determine that several students with very low scores were the outliers that pulled down the mean of the entire class's scores.\n",
    "- An employer wants to determine if the salaries in one department seem fair for all employees, or if there is a great disparity. He finds the average of the salaries in that department and then calculates the variance, and then the standard deviation. The employer finds that the standard deviation is slightly higher than he expected, so he examines the data further and finds that while most employees fall within a similar pay bracket, three loyal employees who have been in the department for 20 years or more, far longer than the others, are making far more due to their longevity with the company. Doing the analysis helped the employer to understand the range of salaries of the people in the department."
   ]
  },
  {
   "cell_type": "markdown",
   "metadata": {},
   "source": [
    "## Solution Sets:\n",
    "\n",
    "- See [WHAT IS STANDARD DEVIATION AND HOW TO CALCULATE IT WITH AN EXAMPLE CALCULATION](https://civilblog.org/2014/05/11/what-is-standard-deviation-and-how-to-calculate-it-with-an-example-calculation/) for problem walk-through.\n",
    "\n"
   ]
  },
  {
   "cell_type": "code",
   "execution_count": null,
   "metadata": {},
   "outputs": [],
   "source": []
  }
 ],
 "metadata": {
  "kernelspec": {
   "display_name": "Python 3",
   "language": "python",
   "name": "python3"
  },
  "language_info": {
   "codemirror_mode": {
    "name": "ipython",
    "version": 3
   },
   "file_extension": ".py",
   "mimetype": "text/x-python",
   "name": "python",
   "nbconvert_exporter": "python",
   "pygments_lexer": "ipython3",
   "version": "3.7.3"
  }
 },
 "nbformat": 4,
 "nbformat_minor": 2
}
