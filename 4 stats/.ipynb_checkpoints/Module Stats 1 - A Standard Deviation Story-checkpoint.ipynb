{
 "cells": [
  {
   "cell_type": "markdown",
   "metadata": {},
   "source": [
    "<header style=\"padding: 5px; width: 600px; margin: 0 auto; font-family: serif; padding-top: 25px\">\n",
    "<aside style=\"width: 20%; display: inline-block\">\n",
    "<img src=\"lock_and_key.png\" alt=\"\" style=\"position: relative; top: 5px;\" />\n",
    "</aside>\n",
    "<section style=\"width: 75%; display: inline-block; margin-left: 10px\">\n",
    "<p style=\"font-size: 18px; margin: 0\">CRACKING PROBABILITY & STATISTICS</p>\n",
    "\n",
    "<h1 style=\"font-size: 40px; margin: 0; font-weight: 300\">A Standard<br />Deviation Story</h1>\n",
    "</section>\n",
    "</header>\n",
    "<section style=\"padding: 5px; width: 600px; margin: 0 auto; font-size: 16px; padding-vertical: 15px\">\n",
    "    <p>Once there was a football coach who divided his physical education class into groups of five students and, unfair as it may seem, gave everyone in each group the same grade. The grades were based on the average performance of <i>each</i> group. Here's how two groups of five students compared in the activity called \"pull up\". In group one, Fred and John both did 7 pull ups, and the other members of the group did 5, 6 and 8. In group two, <i>Joe Stat did 16</i> and the others did 1, 10, 2 and 4. When grade time rolled around, the coach had his student teacher average the grades.\n",
    "</p>\n",
    "</section>"
   ]
  },
  {
   "cell_type": "markdown",
   "metadata": {},
   "source": [
    "## Instructions\n",
    "\n",
    "1. First, read the story in the markdown cells.\n",
    "2. Second, follow along the code cells to see how the Standard Deviation is calculated.\n",
    "3. Thirdly, attempt some of the Practice, Exercise or Read activities suggested below the story.\n",
    "4. Last but not least, ask your classmates and instructors any questions you may have, and make suggestions for improvements to this document."
   ]
  },
  {
   "cell_type": "code",
   "execution_count": 54,
   "metadata": {},
   "outputs": [
    {
     "name": "stdout",
     "output_type": "stream",
     "text": [
      "Group 1: [7, 7, 5, 6, 8]\n",
      "Group 2: [16, 10, 2, 1, 4]\n"
     ]
    }
   ],
   "source": [
    "# define list of numbers\n",
    "group_1 = [7,7,5,6,8]\n",
    "group_2 = [16,10,2,1,4]\n",
    "print(f\"Group 1: {group_1}\\nGroup 2: {group_2}\")"
   ]
  },
  {
   "cell_type": "code",
   "execution_count": 55,
   "metadata": {},
   "outputs": [],
   "source": [
    "# create sum of list function\n",
    "def list_sum(list_in):\n",
    "    total = 0\n",
    "    for item in list_in:\n",
    "        total += item\n",
    "    return total"
   ]
  },
  {
   "cell_type": "code",
   "execution_count": 56,
   "metadata": {},
   "outputs": [],
   "source": [
    "# create mean average function\n",
    "def list_avg(list_in):\n",
    "    return list_sum(list_in) / len(list_in)"
   ]
  },
  {
   "cell_type": "code",
   "execution_count": 57,
   "metadata": {},
   "outputs": [
    {
     "name": "stdout",
     "output_type": "stream",
     "text": [
      "Group 1 Mean Average: 6.6\n",
      "Group 2 Mean Average: 6.6\n"
     ]
    }
   ],
   "source": [
    "# display group averages\n",
    "avg_1 = list_avg(group_1)\n",
    "avg_2 = list_avg(group_2)\n",
    "print(\"Group 1 Mean Average:\",avg_1)\n",
    "print(\"Group 2 Mean Average:\",avg_2)"
   ]
  },
  {
   "cell_type": "markdown",
   "metadata": {},
   "source": [
    "<section style=\"padding: 5px; width: 600px; margin: 0 auto; font-size: 16px; padding-vertical: 15px;\">As you can see, both groups (everyone) got the same grade. And guess who was mad? You guessed it - Joe Stat. Joe complained about this to the coach, but the grades were already turned in and there was nothing which could be done. The coach said that he would have done something about it, if he had only known, but all he saw were group averages and he wasn't about to look at all the individual scores. Joe resolved to find some way to alert the coach to such large variations in a group's performance, so other stars (such as himself), would not be slighted in the future. Later on, Joe took a statistcs class and found what he was looking for - a <i>measure of how much variation is hidden in averages</i>. It's called the <i>standard deviation</i>*.</section>"
   ]
  },
  {
   "cell_type": "markdown",
   "metadata": {},
   "source": [
    "\\begin{equation*}\n",
    "S.D. = { \\sqrt{ \\frac{(\\sum_{1}^{N} (x-\\bar{x})^2)}{N - 1} } }\n",
    "\\end{equation*}"
   ]
  },
  {
   "cell_type": "markdown",
   "metadata": {},
   "source": [
    "<section style=\"padding: 5px; width: 600px; margin: 0 auto; font-size: 16px; padding-vertical: 15px\">Where $\\sum_{1}^{N}$ is a symbol which means the sum from 1 to N.\n",
    "\n",
    "x represents each score  \n",
    "$\\bar{x}$ represents the average score  \n",
    "N is the number of scores  \n",
    "\n",
    "\\*Please note that this formula is used for calculating the Standard Deviation of a *Sample*</section>"
   ]
  },
  {
   "cell_type": "markdown",
   "metadata": {},
   "source": [
    "<section style=\"padding: 5px; width: 600px; margin: 0 auto; font-size: 16px; padding-vertical: 15px\">Joe got out his calculator, and found the standard deviation for the two groups of scores. (Remember it was previously calculated that the average score for each group $\\bar{x}$, was 6.6.) The scores,</section>"
   ]
  },
  {
   "cell_type": "code",
   "execution_count": 58,
   "metadata": {},
   "outputs": [
    {
     "name": "stdout",
     "output_type": "stream",
     "text": [
      "Group 1: [7, 7, 5, 6, 8]\n",
      "Group 2: [16, 10, 2, 1, 4]\n"
     ]
    }
   ],
   "source": [
    "# again, checking the scores\n",
    "print(f\"Group 1: {group_1}\\nGroup 2: {group_2}\")"
   ]
  },
  {
   "cell_type": "code",
   "execution_count": 59,
   "metadata": {},
   "outputs": [],
   "source": [
    "import math"
   ]
  },
  {
   "cell_type": "code",
   "execution_count": 60,
   "metadata": {},
   "outputs": [],
   "source": [
    "precision = 2 # let's use 2 decimal places as per the original PDF"
   ]
  },
  {
   "cell_type": "code",
   "execution_count": 61,
   "metadata": {},
   "outputs": [],
   "source": [
    "# to avoid precision and rounding errors, Python requires us to manually define how we are rounding\n",
    "def round_half_up(n, decimals=0):\n",
    "    multiplier = 10 ** decimals\n",
    "    return math.floor(n*multiplier + 0.5) / multiplier"
   ]
  },
  {
   "cell_type": "code",
   "execution_count": 62,
   "metadata": {},
   "outputs": [],
   "source": [
    "# create function which calculcates the raw deviation from the mean for a list\n",
    "def get_deviation_from_mean(list_in, sig_figs):\n",
    "    mean_avg = list_avg(list_in)\n",
    "    new_list = []\n",
    "    for item in list_in:\n",
    "        new_list.append(round_half_up(item - mean_avg, sig_figs))\n",
    "    return new_list"
   ]
  },
  {
   "cell_type": "code",
   "execution_count": 63,
   "metadata": {},
   "outputs": [
    {
     "name": "stdout",
     "output_type": "stream",
     "text": [
      "Deviations from the mean:\n",
      "Group 1: [0.4, 0.4, -1.6, -0.6, 1.4]\n",
      "Group 2: [9.4, 3.4, -4.6, -5.6, -2.6]\n"
     ]
    }
   ],
   "source": [
    "# Find the deviation from the mean\n",
    "deviations_1 = get_deviation_from_mean(group_1, precision)\n",
    "deviations_2 = get_deviation_from_mean(group_2, precision)\n",
    "print(\"Deviations from the mean:\")\n",
    "print(\"Group 1:\",deviations_1)\n",
    "print(\"Group 2:\",deviations_2)"
   ]
  },
  {
   "cell_type": "code",
   "execution_count": 64,
   "metadata": {},
   "outputs": [
    {
     "name": "stdout",
     "output_type": "stream",
     "text": [
      "Deviations from the mean SQUARED:\n",
      "Group 1: [0.16, 0.16, 2.56, 0.36, 1.96]\n",
      "Group 2: [88.36, 11.56, 21.16, 31.36, 6.76]\n"
     ]
    }
   ],
   "source": [
    "print(\"Deviations from the mean SQUARED:\")\n",
    "print(\"Group 1:\", [round_half_up(i*i,precision) for i in deviations_1])\n",
    "print(\"Group 2:\", [round_half_up(i*i,precision) for i in deviations_2])"
   ]
  },
  {
   "cell_type": "code",
   "execution_count": 65,
   "metadata": {},
   "outputs": [],
   "source": [
    "# executes the std for a list, assumes that it is for a sample\n",
    "def calc_std(list_in, sig_figs, for_pop=False):\n",
    "    deviations = get_deviation_from_mean(list_in, precision)\n",
    "    devs_squared = [round_half_up(i*i,precision) for i in deviations]\n",
    "    sum_of_squares = list_sum(devs_squared)\n",
    "    if for_pop == True:\n",
    "        variance = sum_of_squares / (len(list_in)) # population formula\n",
    "    else:\n",
    "        variance = sum_of_squares / (len(list_in) - 1) # sample formula\n",
    "    return round_half_up(math.sqrt(variance), sig_figs)"
   ]
  },
  {
   "cell_type": "code",
   "execution_count": 66,
   "metadata": {},
   "outputs": [
    {
     "name": "stdout",
     "output_type": "stream",
     "text": [
      "Calculated:\n",
      "Group 1 STD: 1.1401754\n",
      "Group 2 STD: 6.3087241\n",
      "\n",
      "Expected: \n",
      "Using the STD Formula for a Sample:\n",
      "Group 1 STD: 1.1401754\n",
      "Group 2 STD: 6.3087241\n",
      "\n"
     ]
    }
   ],
   "source": [
    "final_precision = 7\n",
    "std_1 = calc_std(group_1, final_precision, False) # change this to True to see default Numpy result\n",
    "std_2 = calc_std(group_2, final_precision, False)\n",
    "print(\"Calculated:\")\n",
    "print(\"Group 1 STD:\",std_1)\n",
    "print(\"Group 2 STD:\",std_2)\n",
    "\n",
    "expected_answer = \"\"\"\n",
    "Using the STD Formula for a Sample:\n",
    "Group 1 STD: 1.1401754\n",
    "Group 2 STD: 6.3087241\n",
    "\"\"\"\n",
    "\n",
    "print(\"\\nExpected:\", expected_answer)"
   ]
  },
  {
   "cell_type": "markdown",
   "metadata": {},
   "source": [
    "<section style=\"padding: 5px; width: 600px; margin: 0 auto; font-size: 16px; padding-vertical: 15px\">Thus the difference in standard deviation shows that although the average for each group was the same (6.6), the <i>individual folks</i> in group 2 differed from this average (above or below it) more than in group one. This measure would be enough to warn the coach!</section>"
   ]
  },
  {
   "cell_type": "markdown",
   "metadata": {},
   "source": [
    "![Boys Playing Soccer](playing_soccer.png)"
   ]
  },
  {
   "cell_type": "markdown",
   "metadata": {},
   "source": [
    "<section style=\"padding: 5px; width: 600px; margin: 0 auto; font-size: 16px; padding-vertical: 15px\">\n",
    "    <h2>On Your Own:</h2>\n",
    "    \n",
    "**Practice**: Using the code in the cell below, use the Numpy library to calculate the STD. What results do you get?\n",
    "\n",
    "**Exericse**: Using the data from this story, make your own Notebook. How might you write the code differently? How might you present the story differently (assuming the numbers/data weren't changed)? \n",
    "\n",
    "**Read**: Take a look at the [Numpy docs](https://docs.scipy.org/doc/numpy/reference/generated/numpy.std.html). What do the docs say the STD function does? What parameters are required to use it? How could one affect the behavior of the formula to calculate the STD for a sample vs a population? If you get stuck regarding 'sample vs population', search for the word \"population\".</section>"
   ]
  },
  {
   "cell_type": "code",
   "execution_count": 67,
   "metadata": {},
   "outputs": [],
   "source": [
    "# to test with the numpy std formula, uncomment out the following 3 lines\n",
    "#import numpy as np\n",
    "#print(np.std(group_1))\n",
    "#print(np.std(group_2))\n",
    "\n",
    "# question: is the default numpy std formula calculated for a population or a sample?"
   ]
  },
  {
   "cell_type": "markdown",
   "metadata": {},
   "source": [
    "<section style=\"padding: 5px; width: 600px; margin: 0 auto; font-size: 16px; padding-vertical: 15px\">\n",
    "    <h2>Bibliograpy:</h2>\n",
    "\n",
    "- Great International Math On Keys Book Paperback – Unabridged, January 1, 1976 by Texas Instruments\n",
    "\n",
    "<h2>References:</h2>\n",
    "\n",
    "- [Round Half Up Function](https://realpython.com/python-rounding/#pythons-built-in-round-function)\n",
    "- [LaTeX Symbols](https://latex.wikia.org/wiki/List_of_LaTeX_symbols)\n",
    "- [LaTeX Formulas](http://www.malinc.se/math/latex/basiccodeen.php)\n",
    "- [Square Root in Python 3](https://www.tutorialspoint.com/python3/number_sqrt.htm)\n",
    "\n",
    "<h2>Further Reading:</h2>\n",
    "\n",
    "- [Intro to LaTeX](https://en.wikibooks.org/wiki/LaTeX/Mathematics)\n",
    "</section>"
   ]
  },
  {
   "cell_type": "markdown",
   "metadata": {},
   "source": [
    "<section style=\"padding: 5px; width: 600px; margin: 0 auto; font-size: 16px; padding-vertical: 15px\">\n",
    "    <h2>Glossary:</h2>\n",
    "\n",
    "**Standard Deviation**: A low measure of Standard Deviation indicates that the data are less spread out, whereas a high value of Standard Deviation shows that the data in a set are spread apart from their mean average values. A useful property of the standard deviation is that, unlike the variance, it is expressed in the same units as the data. [GeeksForGeeks](https://www.geeksforgeeks.org/python-statistics-stdev/)\n",
    "\n",
    "**Further Reading from Wikikipedia:** Standard deviation is a number used to tell how measurements for a group are spread out from the average (mean), or expected value. A low standard deviation means that most of the numbers are close to the average. A high standard deviation means that the numbers are more spread out.\n",
    "\n",
    "The reported margin of error is usually twice the standard deviation. Scientists commonly report the standard deviation of numbers from the average number in experiments. They often decide that only differences bigger than two or three times the standard deviation are important. Standard deviation is also useful in money, where the standard deviation on interest earned shows how different one person’s interest earned might be from the average.\n",
    "\n",
    "Many times, only a sample, or part of a group can be measured. Then a number close to the standard deviation for the whole group can be found by a slightly different equation called the sample standard deviation, explained below. [Simple Wikipedia](https://simple.wikipedia.org/wiki/Standard_deviation)\n",
    "\n",
    "</section>"
   ]
  }
 ],
 "metadata": {
  "kernelspec": {
   "display_name": "Python 3",
   "language": "python",
   "name": "python3"
  },
  "language_info": {
   "codemirror_mode": {
    "name": "ipython",
    "version": 3
   },
   "file_extension": ".py",
   "mimetype": "text/x-python",
   "name": "python",
   "nbconvert_exporter": "python",
   "pygments_lexer": "ipython3",
   "version": "3.7.3"
  }
 },
 "nbformat": 4,
 "nbformat_minor": 2
}
